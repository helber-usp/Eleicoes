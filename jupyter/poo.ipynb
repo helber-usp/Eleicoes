{
 "cells": [
  {
   "cell_type": "code",
   "execution_count": 17,
   "id": "6be2ff5d-23b3-49c8-ba68-3462a9b41599",
   "metadata": {},
   "outputs": [],
   "source": [
    "import psycopg2\n",
    "from psycopg2 import OperationalError\n",
    "\n",
    "class PostgreSQLConnector:\n",
    "    \n",
    "    def __init__(self):\n",
    "        self.connection = self.connect()\n",
    "\n",
    "    def connect(self, host='localhost',  database='testdatabase', user='TestUser', password='test'):\n",
    "        while True:\n",
    "            try:\n",
    "                connection = psycopg2.connect(host=host, database=database, user=user, password=password)\n",
    "                print(f'Usuário {user} conectado com sucesso ao banco de dados {database}')\n",
    "                return connection\n",
    "            except OperationalError:\n",
    "                print('Ocorreu um erro ao fazer a conexão com o banco de dados solicitado')\n",
    "                esc = int(input('Digite 1 para tentar novamente, 2 para inserir os parâmetros de conexão manualmente, '\\\n",
    "                                'ou entre qualquer outra tecla para encerrar a aplicação.'))\n",
    "                if esc not in [1, 2]:\n",
    "                    print('Programa encerrado')\n",
    "                    return None\n",
    "                elif esc == 2:\n",
    "                    host = input('Nome do host:')\n",
    "                    database = input('Nome do database:')\n",
    "                    user = input('Nome de usuário:')\n",
    "                    password = input('Senha:')\n",
    "                \n",
    "\n",
    "\n",
    "class PostgreSQLOperations:\n",
    "\n",
    "    def __init__(self, connector: PostgreSQLConnector):\n",
    "        self.connection = connector.connection\n",
    "        self.cursor = self.connection.cursor()\n",
    "\n",
    "    def select(self, table):\n",
    "        sql = f\"\"\"SELECT * FROM {table}\"\"\"\n",
    "        print(f'Executando seleção com a query: {sql}')\n",
    "        try:\n",
    "            self.cursor.execute(sql)\n",
    "            results = self.cursor.fetchall()\n",
    "        except:\n",
    "            results = None\n",
    "            \n",
    "        if results:\n",
    "            for line in results:\n",
    "                print(line)        "
   ]
  },
  {
   "cell_type": "code",
   "execution_count": 18,
   "id": "1ce8ff12-8448-4a86-8801-4dbd2130289a",
   "metadata": {},
   "outputs": [
    {
     "name": "stdout",
     "output_type": "stream",
     "text": [
      "Usuário TestUser conectado com sucesso ao banco de dados testdatabase\n"
     ]
    }
   ],
   "source": [
    "instance = PostgreSQLConnector()"
   ]
  },
  {
   "cell_type": "code",
   "execution_count": 19,
   "id": "b425e3d2-f07c-4bce-a8b6-7d5683ab2ba9",
   "metadata": {},
   "outputs": [],
   "source": [
    "op = PostgreSQLOperations(instance)"
   ]
  },
  {
   "cell_type": "code",
   "execution_count": 20,
   "id": "0639c76c-a6bd-4a38-b2f1-f55b8f0636fb",
   "metadata": {},
   "outputs": [
    {
     "name": "stdout",
     "output_type": "stream",
     "text": [
      "Executando seleção com a query: SELECT * FROM Candidatos\n",
      "(Decimal('13'), 'Josias roba mais faiz', 'Perda Total')\n",
      "(Decimal('22'), 'Tião da bala braba', 'Partyotas')\n",
      "(Decimal('30'), 'Berenice anarquista', 'OVO')\n"
     ]
    }
   ],
   "source": [
    "op.select('Candidatos')"
   ]
  }
 ],
 "metadata": {
  "kernelspec": {
   "display_name": "database",
   "language": "python",
   "name": "database"
  },
  "language_info": {
   "codemirror_mode": {
    "name": "ipython",
    "version": 3
   },
   "file_extension": ".py",
   "mimetype": "text/x-python",
   "name": "python",
   "nbconvert_exporter": "python",
   "pygments_lexer": "ipython3",
   "version": "3.10.0"
  }
 },
 "nbformat": 4,
 "nbformat_minor": 5
}
