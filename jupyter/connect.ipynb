{
 "cells": [
  {
   "cell_type": "code",
   "execution_count": 29,
   "id": "9c419a1d",
   "metadata": {},
   "outputs": [],
   "source": [
    "import psycopg2"
   ]
  },
  {
   "cell_type": "code",
   "execution_count": 30,
   "id": "835eeaa8",
   "metadata": {},
   "outputs": [],
   "source": [
    "con = psycopg2.connect(host='localhost', database='testdatabase', user='TestUser', password='test')"
   ]
  },
  {
   "cell_type": "code",
   "execution_count": 31,
   "id": "1fce82df",
   "metadata": {},
   "outputs": [],
   "source": [
    "cur = con.cursor()"
   ]
  },
  {
   "cell_type": "code",
   "execution_count": 32,
   "id": "5eeb37cd",
   "metadata": {},
   "outputs": [],
   "source": [
    "cur.execute(\"\"\"SELECT table_name FROM information_schema.tables\n",
    "       WHERE table_schema = 'public'\"\"\")"
   ]
  },
  {
   "cell_type": "code",
   "execution_count": 33,
   "id": "ee8f540c",
   "metadata": {},
   "outputs": [
    {
     "data": {
      "text/plain": [
       "[('candidatos',)]"
      ]
     },
     "execution_count": 33,
     "metadata": {},
     "output_type": "execute_result"
    }
   ],
   "source": [
    "cur.fetchall()"
   ]
  },
  {
   "cell_type": "code",
   "execution_count": 21,
   "id": "f4caabce",
   "metadata": {},
   "outputs": [],
   "source": [
    "sql = \"\"\"CREATE TABLE Candidatos(\n",
    "\tid_candidato NUMERIC(20) NOT NULL,\n",
    "\tNome VARCHAR(100) NOT NULL,\n",
    "\tPartido VARCHAR(20),\n",
    "\n",
    "\tCONSTRAINT candidato_pk PRIMARY KEY(id_candidato)\n",
    ")\"\"\""
   ]
  },
  {
   "cell_type": "code",
   "execution_count": 22,
   "id": "962a9603",
   "metadata": {},
   "outputs": [],
   "source": [
    "cur.execute(sql)"
   ]
  },
  {
   "cell_type": "code",
   "execution_count": 23,
   "id": "829fd011",
   "metadata": {},
   "outputs": [],
   "source": [
    "cur.execute(\"\"\"SELECT table_name FROM information_schema.tables\n",
    "       WHERE table_schema = 'public'\"\"\")"
   ]
  },
  {
   "cell_type": "code",
   "execution_count": 24,
   "id": "6e71c309",
   "metadata": {},
   "outputs": [
    {
     "data": {
      "text/plain": [
       "[('candidatos',)]"
      ]
     },
     "execution_count": 24,
     "metadata": {},
     "output_type": "execute_result"
    }
   ],
   "source": [
    "cur.fetchall()"
   ]
  },
  {
   "cell_type": "code",
   "execution_count": 25,
   "id": "0b00c77b",
   "metadata": {},
   "outputs": [],
   "source": [
    "sql = \"\"\"INSERT INTO Candidatos VALUES(13, 'Josias roba mais faiz', 'Perda Total');\n",
    "INSERT INTO Candidatos VALUES(22, 'Tião da bala braba', 'Partyotas');\n",
    "INSERT INTO Candidatos VALUES(30, 'Berenice anarquista', 'OVO')\"\"\""
   ]
  },
  {
   "cell_type": "code",
   "execution_count": 26,
   "id": "9090f587",
   "metadata": {},
   "outputs": [],
   "source": [
    "cur.execute(sql)"
   ]
  },
  {
   "cell_type": "code",
   "execution_count": 9,
   "id": "94107747",
   "metadata": {},
   "outputs": [],
   "source": [
    "cur.execute('select * from Candidatos')"
   ]
  },
  {
   "cell_type": "code",
   "execution_count": 10,
   "id": "a9f4d965",
   "metadata": {},
   "outputs": [],
   "source": [
    "results = cur.fetchall()"
   ]
  },
  {
   "cell_type": "code",
   "execution_count": 19,
   "id": "dded203f",
   "metadata": {},
   "outputs": [
    {
     "name": "stdout",
     "output_type": "stream",
     "text": [
      "13                                        Josias roba mais faiz                                         Perda Total\n",
      "22                                          Tião da bala braba                                          Partyotas\n",
      "30                                         Berenice anarquista                                          OVO\n"
     ]
    }
   ],
   "source": [
    "for line in results:\n",
    "    print(line[0], line[1].center(100, ' '), line[2])"
   ]
  },
  {
   "cell_type": "code",
   "execution_count": 12,
   "id": "7bd90079",
   "metadata": {},
   "outputs": [
    {
     "data": {
      "text/plain": [
       "[(Decimal('13'), 'Josias roba mais faiz', 'Perda Total'),\n",
       " (Decimal('22'), 'Tião da bala braba', 'Partyotas'),\n",
       " (Decimal('30'), 'Berenice anarquista', 'OVO')]"
      ]
     },
     "execution_count": 12,
     "metadata": {},
     "output_type": "execute_result"
    }
   ],
   "source": [
    "results"
   ]
  },
  {
   "cell_type": "code",
   "execution_count": 20,
   "id": "04a1670f-a14c-463e-90e9-3c60c16939b0",
   "metadata": {},
   "outputs": [],
   "source": [
    "con.commit()"
   ]
  }
 ],
 "metadata": {
  "kernelspec": {
   "display_name": "scc0240",
   "language": "python",
   "name": "python3"
  },
  "language_info": {
   "codemirror_mode": {
    "name": "ipython",
    "version": 3
   },
   "file_extension": ".py",
   "mimetype": "text/x-python",
   "name": "python",
   "nbconvert_exporter": "python",
   "pygments_lexer": "ipython3",
   "version": "3.10.14"
  }
 },
 "nbformat": 4,
 "nbformat_minor": 5
}
